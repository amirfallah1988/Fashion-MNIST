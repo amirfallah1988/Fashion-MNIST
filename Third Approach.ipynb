{
 "cells": [
  {
   "cell_type": "markdown",
   "metadata": {},
   "source": [
    "# Intro\n",
    "\n",
    "In this approach, I decided to choose some different augmenting technique, called **_quarter erasing_**. The method is based on **_random erasing_** technique which is described in below paper: <br>\n",
    "\n",
    "https://arxiv.org/pdf/1708.04896.pdf\n",
    "\n",
    "In this technique, a quarter of an image will be erased randomly. For testing this method, I choose simpler model. which is a sequential model. You can see the network structure in image below. <br> \n",
    "\n",
    "<img src=\"https://github.com/amirfallah1988/Fashion-MNIST/blob/master/third_approach.png\" title= \"network structre\"/> <br>\n",
    "\n",
    "**Why choosing this structure** <br>\n",
    "I chose this this augmentaion after reviewing the results of two last approaches and also train images. As also metioned in second approach, the main misclassification happend between shirts and T-shirts. To find some difference between these two classes and to train the network properly to distinguish between them, I try the technique of quarter erasing. By this technique, randomly the common parts of different classes may be removed and the model only trained by differnet parts of two model. For example it may removed up part of image which consists collar of shirt or t-shirt and keeps just sleeves, which is the main part of T-shirts and shirts.<br>\n",
    "\n",
    "**Notes** <br>\n",
    "- I use the simpler network to test my augmentation. We can combine this technique with network in pervious approaches.\n",
    "- I tried to design a simple model with minimum parameters which also has good performance.<br>"
   ]
  },
  {
   "cell_type": "markdown",
   "metadata": {},
   "source": [
    "## Importing modules"
   ]
  },
  {
   "cell_type": "code",
   "execution_count": 7,
   "metadata": {},
   "outputs": [],
   "source": [
    "import numpy as np\n",
    "from tensorflow.keras.datasets import fashion_mnist\n",
    "from tensorflow.keras.models import Model,Sequential\n",
    "from tensorflow.keras import layers\n",
    "from tensorflow.keras import utils\n",
    "from tensorflow.keras import callbacks\n",
    "from tensorflow.keras import optimizers\n",
    "from tensorflow.keras import regularizers\n",
    "from tensorflow.keras import losses\n",
    "from tensorflow.keras import metrics\n",
    "from tensorflow.keras.preprocessing.image import ImageDataGenerator\n",
    "import matplotlib.pyplot as plt\n",
    "from sklearn.metrics import confusion_matrix\n",
    "from sklearn.model_selection import train_test_split\n",
    "import pandas as pd\n",
    "import time"
   ]
  },
  {
   "cell_type": "markdown",
   "metadata": {},
   "source": [
    "## Paramter setting"
   ]
  },
  {
   "cell_type": "code",
   "execution_count": 8,
   "metadata": {},
   "outputs": [],
   "source": [
    "batch_size     = 64\n",
    "nb_classes     = 10\n",
    "nb_ephochs     = 100"
   ]
  },
  {
   "cell_type": "markdown",
   "metadata": {},
   "source": [
    "## Load and prepare data\n",
    "Here the fashion mnist dataset is loaded. The shape of dataset is proper (28x28), but for process with keras, need some modifications:<br>\n",
    "**1-** The values of pixels are in range of 0-255. So it must normalize. For normalization I just divide each value by 255.<br>\n",
    "**2-** The dimension of data must expand to 3.<br>\n",
    "**3-** For use the data for classification task, I convert data's label to categorical form. <br>\n",
    "**4-** Before divide -just for assurance- I shuffle the data."
   ]
  },
  {
   "cell_type": "code",
   "execution_count": 9,
   "metadata": {},
   "outputs": [],
   "source": [
    "# Load data\n",
    "(All_data, All_labels), (x_test, y_test) = fashion_mnist.load_data()\n",
    "\n",
    "# preprocess data\n",
    "\n",
    "All_data=All_data/255\n",
    "All_data=np.expand_dims(All_data, axis=3)\n",
    "input_shape= (All_data.shape[1],All_data.shape[2],1)\n",
    "\n",
    "All_labels_categorical=utils.to_categorical(All_labels, num_classes=nb_classes)\n",
    "\n",
    "# shuffle data\n",
    "p=np.random.permutation(len(All_data))\n",
    "All_data=All_data[p]\n",
    "All_labels_categorical=All_labels_categorical[p]\n",
    "\n",
    "\n",
    "# prepare test data for further tests\n",
    "x_test=x_test/255\n",
    "x_test=np.expand_dims(x_test, axis=3)  \n",
    "y_test_categorical=utils.to_categorical(y_test, num_classes=nb_classes)"
   ]
  },
  {
   "cell_type": "markdown",
   "metadata": {},
   "source": [
    "## Data Augmentation\n",
    "To improve the accuracy of model, I use quarter erasing augmentation techinque. We can use this technique beside other types of augmentation."
   ]
  },
  {
   "cell_type": "code",
   "execution_count": 10,
   "metadata": {},
   "outputs": [],
   "source": [
    "def quarter_erasing(image):\n",
    "    q=np.random.randint(1,5)\n",
    "    if q==1:\n",
    "        image[:14,:14,:]=0\n",
    "    if q==2:\n",
    "        image[:14,14:,:]=0\n",
    "    if q==3:\n",
    "        image[14:,:14,:]=0\n",
    "    if q==4:\n",
    "        image[14:,14:,:]=0\n",
    "    return image\n",
    "\n",
    "Datagen=ImageDataGenerator(preprocessing_function=quarter_erasing)\n"
   ]
  },
  {
   "cell_type": "markdown",
   "metadata": {},
   "source": [
    "## Sample of quarter erasing"
   ]
  },
  {
   "cell_type": "code",
   "execution_count": 37,
   "metadata": {},
   "outputs": [
    {
     "data": {
      "text/plain": [
       "(<matplotlib.image.AxesImage at 0x24a88d8a848>,\n",
       " Text(0.5, 1.0, 'quarter erasing result image'),\n",
       " (-0.5, 27.5, 27.5, -0.5))"
      ]
     },
     "execution_count": 37,
     "metadata": {},
     "output_type": "execute_result"
    },
    {
     "data": {
      "image/png": "[encoded data removed]",
      "text/plain": [
       "<Figure size 1080x360 with 4 Axes>"
      ]
     },
     "metadata": {
      "needs_background": "light"
     },
     "output_type": "display_data"
    }
   ],
   "source": [
    "A=Datagen.flow(All_data[0:1],All_labels[0:1],batch_size=4)\n",
    "result=A.next()[0]\n",
    "fig=plt.figure(figsize=(15,5))\n",
    "fig.add_subplot(2, 2, 1)\n",
    "plt.imshow(All_data[0,:,:,0],cmap='gray'),plt.title('original image') , plt.axis('off')\n",
    "fig.add_subplot(2, 2, 2)\n",
    "plt.imshow(result[0,:,:,0],cmap='gray'),plt.title('quarter erasing result image')  ,plt.axis('off')\n",
    "A=Datagen.flow(All_data[0:1],All_labels[0:1],batch_size=4)\n",
    "result=A.next()[0]\n",
    "fig.add_subplot(2, 2, 3)\n",
    "plt.imshow(result[0,:,:,0],cmap='gray'),plt.title('quarter erasing result image')  ,plt.axis('off')\n",
    "A=Datagen.flow(All_data[0:1],All_labels[0:1],batch_size=4)\n",
    "result=A.next()[0]\n",
    "fig.add_subplot(2, 2, 4)\n",
    "plt.imshow(result[0,:,:,0],cmap='gray'),plt.title('quarter erasing result image')  ,plt.axis('off')\n",
    "\n"
   ]
  },
  {
   "cell_type": "markdown",
   "metadata": {},
   "source": [
    "## Network structure\n",
    "In the next cell, the structure of model is defined."
   ]
  },
  {
   "cell_type": "code",
   "execution_count": 38,
   "metadata": {},
   "outputs": [
    {
     "name": "stdout",
     "output_type": "stream",
     "text": [
      "Model: \"sequential_1\"\n",
      "_________________________________________________________________\n",
      "Layer (type)                 Output Shape              Param #   \n",
      "=================================================================\n",
      "conv2d_2 (Conv2D)            (None, 28, 28, 32)        320       \n",
      "_________________________________________________________________\n",
      "batch_normalization_2 (Batch (None, 28, 28, 32)        128       \n",
      "_________________________________________________________________\n",
      "max_pooling2d_2 (MaxPooling2 (None, 14, 14, 32)        0         \n",
      "_________________________________________________________________\n",
      "conv2d_3 (Conv2D)            (None, 14, 14, 32)        9248      \n",
      "_________________________________________________________________\n",
      "batch_normalization_3 (Batch (None, 14, 14, 32)        128       \n",
      "_________________________________________________________________\n",
      "max_pooling2d_3 (MaxPooling2 (None, 7, 7, 32)          0         \n",
      "_________________________________________________________________\n",
      "flatten_1 (Flatten)          (None, 1568)              0         \n",
      "_________________________________________________________________\n",
      "dense_2 (Dense)              (None, 128)               200832    \n",
      "_________________________________________________________________\n",
      "dropout_1 (Dropout)          (None, 128)               0         \n",
      "_________________________________________________________________\n",
      "dense_3 (Dense)              (None, 10)                1290      \n",
      "=================================================================\n",
      "Total params: 211,946\n",
      "Trainable params: 211,818\n",
      "Non-trainable params: 128\n",
      "_________________________________________________________________\n"
     ]
    }
   ],
   "source": [
    "model=Sequential()\n",
    "\n",
    "model.add(layers.Conv2D(32,kernel_size=3,padding='same',activation='relu',input_shape=input_shape))\n",
    "model.add(layers.BatchNormalization())\n",
    "model.add(layers.MaxPooling2D(2,padding='same'))\n",
    "model.add(layers.Conv2D(32,kernel_size=3,padding='same',activation='relu'))\n",
    "model.add(layers.BatchNormalization())\n",
    "model.add(layers.MaxPooling2D(2,padding='same'))\n",
    "model.add(layers.Flatten())\n",
    "model.add(layers.Dense(128,activation='relu'))\n",
    "model.add(layers.Dropout(.4))\n",
    "# model.add(layers.Dense(30,activation='relu'))\n",
    "model.add(layers.Dense(10,activation='softmax'))\n",
    "\n",
    "\n",
    "model.summary()"
   ]
  },
  {
   "cell_type": "markdown",
   "metadata": {},
   "source": [
    "## Optimizer, loss and metric\n",
    "Based on my own experience and also after test SGD optimzers, I choosed ADAM optimzer with learning rate equal to 0.001.<br>\n",
    "I also tested both MSE and categorical crossentropy as loss function and as I expected the categorical cross entropy was the better choice.<br>\n",
    "For metric, I choose accuracy, just to find out number of correct prediction."
   ]
  },
  {
   "cell_type": "code",
   "execution_count": 39,
   "metadata": {},
   "outputs": [],
   "source": [
    "optimizer=optimizers.Adam(learning_rate=0.001)\n",
    "loss=losses.CategoricalCrossentropy()\n",
    "metric=metrics.Accuracy()"
   ]
  },
  {
   "cell_type": "markdown",
   "metadata": {},
   "source": [
    "## Callbacks\n",
    "I use three callbacks to handle the procedure of learning: <br>\n",
    "**1-** Checkpoint model: to save the best model in learning procedure. <br>\n",
    "**2-** Reduce learning rate in plateau: to decay the learning rate when the loss value get stuck in plateau. <br>\n",
    "**3-** Early stopping: to prevenet overfitting and also to shorten the time of the training, I used early stopping callback.<br>"
   ]
  },
  {
   "cell_type": "code",
   "execution_count": 40,
   "metadata": {},
   "outputs": [],
   "source": [
    "es=callbacks.EarlyStopping(min_delta=0.0001, patience=5,restore_best_weights=True)\n",
    "mc=callbacks.ModelCheckpoint('third_approach_model.hdf5',save_best_only=True)\n",
    "rop=callbacks.ReduceLROnPlateau(monitor='val_loss', factor=0.9, patience=4 , min_delta=0.01,verbose=1)"
   ]
  },
  {
   "cell_type": "markdown",
   "metadata": {},
   "source": [
    "## Train the model\n",
    "**Note** <br>\n",
    "**_- Cross validation techniques can be used in evaluating the performance of the model, but to hold the process succinct I didn't use it._** <br>\n",
    "**- The data was splited to train and validation for evaluate the performance.**"
   ]
  },
  {
   "cell_type": "code",
   "execution_count": 41,
   "metadata": {},
   "outputs": [
    {
     "name": "stdout",
     "output_type": "stream",
     "text": [
      "Epoch 1/100\n",
      "844/844 [==============================] - 145s 172ms/step - loss: 0.5889 - accuracy: 0.7899 - val_loss: 0.3760 - val_accuracy: 0.8702\n",
      "Epoch 2/100\n",
      "844/844 [==============================] - 148s 175ms/step - loss: 0.4021 - accuracy: 0.8535 - val_loss: 0.2701 - val_accuracy: 0.9035\n",
      "Epoch 3/100\n",
      "844/844 [==============================] - 148s 175ms/step - loss: 0.3561 - accuracy: 0.8704 - val_loss: 0.2573 - val_accuracy: 0.9047\n",
      "Epoch 4/100\n",
      "844/844 [==============================] - 147s 174ms/step - loss: 0.3284 - accuracy: 0.8797 - val_loss: 0.2481 - val_accuracy: 0.9123\n",
      "Epoch 5/100\n",
      "844/844 [==============================] - 150s 178ms/step - loss: 0.3074 - accuracy: 0.8880 - val_loss: 0.2528 - val_accuracy: 0.9077\n",
      "Epoch 6/100\n",
      "844/844 [==============================] - 141s 167ms/step - loss: 0.2937 - accuracy: 0.8933 - val_loss: 0.2328 - val_accuracy: 0.9200\n",
      "Epoch 7/100\n",
      "844/844 [==============================] - 159s 188ms/step - loss: 0.2779 - accuracy: 0.8970 - val_loss: 0.2383 - val_accuracy: 0.9143\n",
      "Epoch 8/100\n",
      "844/844 [==============================] - 152s 180ms/step - loss: 0.2659 - accuracy: 0.9018 - val_loss: 0.3616 - val_accuracy: 0.8827\n",
      "Epoch 9/100\n",
      "844/844 [==============================] - 161s 191ms/step - loss: 0.2573 - accuracy: 0.9044 - val_loss: 0.2193 - val_accuracy: 0.9245\n",
      "Epoch 10/100\n",
      "844/844 [==============================] - 143s 169ms/step - loss: 0.2464 - accuracy: 0.9093 - val_loss: 0.2214 - val_accuracy: 0.9242\n",
      "Epoch 11/100\n",
      "844/844 [==============================] - 152s 180ms/step - loss: 0.2426 - accuracy: 0.9106 - val_loss: 0.2250 - val_accuracy: 0.9245\n",
      "Epoch 12/100\n",
      "844/844 [==============================] - 145s 171ms/step - loss: 0.2328 - accuracy: 0.9138 - val_loss: 0.3155 - val_accuracy: 0.8958\n",
      "Epoch 13/100\n",
      "843/844 [============================>.] - ETA: 0s - loss: 0.2291 - accuracy: 0.9147\n",
      "Epoch 00013: ReduceLROnPlateau reducing learning rate to 0.0009000000427477062.\n",
      "844/844 [==============================] - 140s 166ms/step - loss: 0.2292 - accuracy: 0.9147 - val_loss: 0.2352 - val_accuracy: 0.9247\n",
      "Epoch 14/100\n",
      "844/844 [==============================] - 136s 161ms/step - loss: 0.2172 - accuracy: 0.9175 - val_loss: 0.2062 - val_accuracy: 0.9323\n",
      "Epoch 15/100\n",
      "844/844 [==============================] - 139s 164ms/step - loss: 0.2076 - accuracy: 0.9220 - val_loss: 0.2852 - val_accuracy: 0.9113\n",
      "Epoch 16/100\n",
      "844/844 [==============================] - 148s 176ms/step - loss: 0.2026 - accuracy: 0.9253 - val_loss: 0.2561 - val_accuracy: 0.9183\n",
      "Epoch 17/100\n",
      "844/844 [==============================] - 142s 169ms/step - loss: 0.1974 - accuracy: 0.9261 - val_loss: 0.2321 - val_accuracy: 0.9282\n",
      "Epoch 18/100\n",
      "843/844 [============================>.] - ETA: 0s - loss: 0.1960 - accuracy: 0.9282\n",
      "Epoch 00018: ReduceLROnPlateau reducing learning rate to 0.0008100000384729356.\n",
      "844/844 [==============================] - 137s 162ms/step - loss: 0.1959 - accuracy: 0.9282 - val_loss: 0.2692 - val_accuracy: 0.9132\n",
      "Epoch 19/100\n",
      "844/844 [==============================] - 139s 165ms/step - loss: 0.1854 - accuracy: 0.9312 - val_loss: 0.3702 - val_accuracy: 0.9015\n"
     ]
    }
   ],
   "source": [
    "# split data to train and validation\n",
    "x_train,x_val,y_train_categorical,y_val_categorical=train_test_split(All_data,All_labels_categorical,test_size=.1)\n",
    "\n",
    "\n",
    "# compile\n",
    "\n",
    "model.compile(optimizer=optimizer,\n",
    "              loss='categorical_crossentropy',\n",
    "              metrics=['accuracy'])\n",
    "\n",
    "# train\n",
    "start_time=time.time()\n",
    "h=model.fit_generator(Datagen.flow(x_train, y_train_categorical, batch_size=batch_size),\n",
    "            steps_per_epoch=round(len(x_train) / batch_size),\n",
    "            epochs = nb_ephochs,\n",
    "                validation_data=(x_val, y_val_categorical),\n",
    "            # validation_split=.15 ,\n",
    "            callbacks=[mc,rop,es],verbose=1\n",
    "            )\n",
    "train_time=time.time()-start_time\n",
    "\n",
    "\n",
    "\n",
    "   "
   ]
  },
  {
   "cell_type": "markdown",
   "metadata": {},
   "source": [
    "## Plotting results of train\n",
    "The plots below shows the accuracy and loss changes in each epoch, respectively."
   ]
  },
  {
   "cell_type": "code",
   "execution_count": 42,
   "metadata": {},
   "outputs": [
    {
     "data": {
      "text/plain": [
       "([<matplotlib.lines.Line2D at 0x24a881d1a08>],\n",
       " [<matplotlib.lines.Line2D at 0x24a8409bcc8>],\n",
       " Text(0.5, 0, 'epoch'),\n",
       " Text(0, 0.5, 'loss'),\n",
       " <matplotlib.legend.Legend at 0x24a8409f208>,\n",
       " Text(0.5, 1.0, 'Validation Plot'))"
      ]
     },
     "execution_count": 42,
     "metadata": {},
     "output_type": "execute_result"
    },
    {
     "data": {
      "image/png": "[encoded data removed]",
      "text/plain": [
       "<Figure size 1080x360 with 2 Axes>"
      ]
     },
     "metadata": {
      "needs_background": "light"
     },
     "output_type": "display_data"
    }
   ],
   "source": [
    "val_acc_logs=model.history.history['val_accuracy']\n",
    "val_loss_logs=model.history.history['val_loss']\n",
    "\n",
    "\n",
    "acc_logs=model.history.history['accuracy']\n",
    "loss_logs=model.history.history['loss']\n",
    "\n",
    "fig=plt.figure(figsize=(15,5))\n",
    "fig.add_subplot(1, 2, 1)\n",
    "plt.plot(val_acc_logs),plt.plot(acc_logs), plt.xlabel('epoch'), plt.ylabel('acc'),plt.legend(['val_acc','train_acc']),plt.title('Accuracy Plot')\n",
    "fig.add_subplot(1, 2, 2)\n",
    "plt.plot(val_loss_logs),plt.plot(loss_logs), plt.xlabel('epoch'), plt.ylabel('loss'),plt.legend(['val_loss','train_loss']),plt.title('Validation Plot')\n"
   ]
  },
  {
   "cell_type": "markdown",
   "metadata": {},
   "source": [
    "## Time complexity of model\n",
    "we print here the time of just one fit procedure (not whole kfold procedure). Note that the early stopping can change the time of procedure.<br>\n",
    "**Note that this time is taken on the cpu, not gpu.**"
   ]
  },
  {
   "cell_type": "code",
   "execution_count": 43,
   "metadata": {},
   "outputs": [
    {
     "name": "stdout",
     "output_type": "stream",
     "text": [
      "The estimatd time for train the model:  2771.433980703354  (seconds)\n"
     ]
    }
   ],
   "source": [
    "print ('The estimatd time for train the model:  {}  (seconds)'.format(train_time))"
   ]
  },
  {
   "cell_type": "markdown",
   "metadata": {},
   "source": [
    "## Apply model on test data\n",
    "Now its time to apply the model on test dataset to see whether the result is promising or not."
   ]
  },
  {
   "cell_type": "code",
   "execution_count": 44,
   "metadata": {},
   "outputs": [
    {
     "name": "stdout",
     "output_type": "stream",
     "text": [
      "test_accuracy, 0.918 \n",
      "test_loss, 0.266\n"
     ]
    }
   ],
   "source": [
    "result=model.predict(x_test)\n",
    "result=np.argmax(result,axis=1)\n",
    "loss_test,acc_test=model.evaluate(x_test,y_test_categorical,verbose=0)\n",
    "print ('test_accuracy, {:00.3f} '.format(acc_test))\n",
    "print ('test_loss, {:00.3f}'.format(loss_test))"
   ]
  },
  {
   "cell_type": "markdown",
   "metadata": {},
   "source": [
    "## Confusion Matrix\n",
    "Here is the confusion matrix of test data to consider the results more precise."
   ]
  },
  {
   "cell_type": "code",
   "execution_count": 45,
   "metadata": {},
   "outputs": [
    {
     "data": {
      "text/html": [
       "<div>\n",
       "<style scoped>\n",
       "    .dataframe tbody tr th:only-of-type {\n",
       "        vertical-align: middle;\n",
       "    }\n",
       "\n",
       "    .dataframe tbody tr th {\n",
       "        vertical-align: top;\n",
       "    }\n",
       "\n",
       "    .dataframe thead th {\n",
       "        text-align: right;\n",
       "    }\n",
       "</style>\n",
       "<table border=\"1\" class=\"dataframe\">\n",
       "  <thead>\n",
       "    <tr style=\"text-align: right;\">\n",
       "      <th></th>\n",
       "      <th>T-shirt/top</th>\n",
       "      <th>Trouser</th>\n",
       "      <th>Pullover</th>\n",
       "      <th>Dress</th>\n",
       "      <th>Coat</th>\n",
       "      <th>Sandal</th>\n",
       "      <th>Shirt</th>\n",
       "      <th>Sneaker</th>\n",
       "      <th>Bag</th>\n",
       "      <th>Ankle boot</th>\n",
       "    </tr>\n",
       "  </thead>\n",
       "  <tbody>\n",
       "    <tr>\n",
       "      <th>T-shirt/top</th>\n",
       "      <td>895</td>\n",
       "      <td>1</td>\n",
       "      <td>13</td>\n",
       "      <td>12</td>\n",
       "      <td>4</td>\n",
       "      <td>1</td>\n",
       "      <td>73</td>\n",
       "      <td>0</td>\n",
       "      <td>1</td>\n",
       "      <td>0</td>\n",
       "    </tr>\n",
       "    <tr>\n",
       "      <th>Trouser</th>\n",
       "      <td>0</td>\n",
       "      <td>985</td>\n",
       "      <td>0</td>\n",
       "      <td>9</td>\n",
       "      <td>2</td>\n",
       "      <td>0</td>\n",
       "      <td>2</td>\n",
       "      <td>0</td>\n",
       "      <td>2</td>\n",
       "      <td>0</td>\n",
       "    </tr>\n",
       "    <tr>\n",
       "      <th>Pullover</th>\n",
       "      <td>14</td>\n",
       "      <td>1</td>\n",
       "      <td>887</td>\n",
       "      <td>9</td>\n",
       "      <td>44</td>\n",
       "      <td>0</td>\n",
       "      <td>45</td>\n",
       "      <td>0</td>\n",
       "      <td>0</td>\n",
       "      <td>0</td>\n",
       "    </tr>\n",
       "    <tr>\n",
       "      <th>Dress</th>\n",
       "      <td>13</td>\n",
       "      <td>6</td>\n",
       "      <td>4</td>\n",
       "      <td>935</td>\n",
       "      <td>19</td>\n",
       "      <td>0</td>\n",
       "      <td>23</td>\n",
       "      <td>0</td>\n",
       "      <td>0</td>\n",
       "      <td>0</td>\n",
       "    </tr>\n",
       "    <tr>\n",
       "      <th>Coat</th>\n",
       "      <td>0</td>\n",
       "      <td>0</td>\n",
       "      <td>81</td>\n",
       "      <td>29</td>\n",
       "      <td>844</td>\n",
       "      <td>0</td>\n",
       "      <td>45</td>\n",
       "      <td>0</td>\n",
       "      <td>1</td>\n",
       "      <td>0</td>\n",
       "    </tr>\n",
       "    <tr>\n",
       "      <th>Sandal</th>\n",
       "      <td>0</td>\n",
       "      <td>0</td>\n",
       "      <td>0</td>\n",
       "      <td>0</td>\n",
       "      <td>0</td>\n",
       "      <td>982</td>\n",
       "      <td>0</td>\n",
       "      <td>9</td>\n",
       "      <td>1</td>\n",
       "      <td>8</td>\n",
       "    </tr>\n",
       "    <tr>\n",
       "      <th>Shirt</th>\n",
       "      <td>107</td>\n",
       "      <td>3</td>\n",
       "      <td>59</td>\n",
       "      <td>30</td>\n",
       "      <td>70</td>\n",
       "      <td>0</td>\n",
       "      <td>728</td>\n",
       "      <td>0</td>\n",
       "      <td>3</td>\n",
       "      <td>0</td>\n",
       "    </tr>\n",
       "    <tr>\n",
       "      <th>Sneaker</th>\n",
       "      <td>0</td>\n",
       "      <td>0</td>\n",
       "      <td>0</td>\n",
       "      <td>0</td>\n",
       "      <td>0</td>\n",
       "      <td>6</td>\n",
       "      <td>0</td>\n",
       "      <td>971</td>\n",
       "      <td>0</td>\n",
       "      <td>23</td>\n",
       "    </tr>\n",
       "    <tr>\n",
       "      <th>Bag</th>\n",
       "      <td>2</td>\n",
       "      <td>1</td>\n",
       "      <td>2</td>\n",
       "      <td>5</td>\n",
       "      <td>3</td>\n",
       "      <td>0</td>\n",
       "      <td>6</td>\n",
       "      <td>1</td>\n",
       "      <td>980</td>\n",
       "      <td>0</td>\n",
       "    </tr>\n",
       "    <tr>\n",
       "      <th>Ankle boot</th>\n",
       "      <td>0</td>\n",
       "      <td>0</td>\n",
       "      <td>0</td>\n",
       "      <td>0</td>\n",
       "      <td>0</td>\n",
       "      <td>4</td>\n",
       "      <td>1</td>\n",
       "      <td>20</td>\n",
       "      <td>0</td>\n",
       "      <td>975</td>\n",
       "    </tr>\n",
       "  </tbody>\n",
       "</table>\n",
       "</div>"
      ],
      "text/plain": [
       "             T-shirt/top  Trouser  Pullover  Dress  Coat  Sandal  Shirt  \\\n",
       "T-shirt/top          895        1        13     12     4       1     73   \n",
       "Trouser                0      985         0      9     2       0      2   \n",
       "Pullover              14        1       887      9    44       0     45   \n",
       "Dress                 13        6         4    935    19       0     23   \n",
       "Coat                   0        0        81     29   844       0     45   \n",
       "Sandal                 0        0         0      0     0     982      0   \n",
       "Shirt                107        3        59     30    70       0    728   \n",
       "Sneaker                0        0         0      0     0       6      0   \n",
       "Bag                    2        1         2      5     3       0      6   \n",
       "Ankle boot             0        0         0      0     0       4      1   \n",
       "\n",
       "             Sneaker  Bag  Ankle boot  \n",
       "T-shirt/top        0    1           0  \n",
       "Trouser            0    2           0  \n",
       "Pullover           0    0           0  \n",
       "Dress              0    0           0  \n",
       "Coat               0    1           0  \n",
       "Sandal             9    1           8  \n",
       "Shirt              0    3           0  \n",
       "Sneaker          971    0          23  \n",
       "Bag                1  980           0  \n",
       "Ankle boot        20    0         975  "
      ]
     },
     "execution_count": 45,
     "metadata": {},
     "output_type": "execute_result"
    }
   ],
   "source": [
    "conf_mat=confusion_matrix(y_test, result)\n",
    "indexes=pd.Index(['T-shirt/top','Trouser','Pullover','Dress','Coat','Sandal','Shirt','Sneaker','Bag','Ankle boot'])\n",
    "Table=pd.DataFrame(conf_mat,index=indexes,columns=indexes)\n",
    "Table"
   ]
  },
  {
   "cell_type": "markdown",
   "metadata": {},
   "source": [
    "## Conclusion\n"
   ]
  },
  {
   "cell_type": "code",
   "execution_count": 46,
   "metadata": {},
   "outputs": [
    {
     "data": {
      "text/html": [
       "<div>\n",
       "<style scoped>\n",
       "    .dataframe tbody tr th:only-of-type {\n",
       "        vertical-align: middle;\n",
       "    }\n",
       "\n",
       "    .dataframe tbody tr th {\n",
       "        vertical-align: top;\n",
       "    }\n",
       "\n",
       "    .dataframe thead th {\n",
       "        text-align: right;\n",
       "    }\n",
       "</style>\n",
       "<table border=\"1\" class=\"dataframe\">\n",
       "  <thead>\n",
       "    <tr style=\"text-align: right;\">\n",
       "      <th></th>\n",
       "      <th>value</th>\n",
       "    </tr>\n",
       "  </thead>\n",
       "  <tbody>\n",
       "    <tr>\n",
       "      <th>Num_layers</th>\n",
       "      <td>10.00</td>\n",
       "    </tr>\n",
       "    <tr>\n",
       "      <th>Num_parameters</th>\n",
       "      <td>211946.00</td>\n",
       "    </tr>\n",
       "    <tr>\n",
       "      <th>Total train_time</th>\n",
       "      <td>2771.43</td>\n",
       "    </tr>\n",
       "    <tr>\n",
       "      <th>Accuracy</th>\n",
       "      <td>91.82</td>\n",
       "    </tr>\n",
       "  </tbody>\n",
       "</table>\n",
       "</div>"
      ],
      "text/plain": [
       "                      value\n",
       "Num_layers            10.00\n",
       "Num_parameters    211946.00\n",
       "Total train_time    2771.43\n",
       "Accuracy              91.82"
      ]
     },
     "execution_count": 46,
     "metadata": {},
     "output_type": "execute_result"
    }
   ],
   "source": [
    "stat_indexes=pd.Index(['Num_layers','Num_parameters','Total train_time','Accuracy'])\n",
    "stat_table=pd.DataFrame([],index=stat_indexes)\n",
    "stat_table.loc['Num_layers','value']=len(model.layers)\n",
    "stat_table.loc['Num_parameters','value']=model.count_params()\n",
    "stat_table.loc['Total train_time','value']=round(train_time,2)\n",
    "stat_table.loc['Accuracy','value']=round(acc_test*100,2)\n",
    "stat_table"
   ]
  }
 ],
 "metadata": {
  "kernelspec": {
   "display_name": "Python 3",
   "language": "python",
   "name": "python3"
  },
  "language_info": {
   "codemirror_mode": {
    "name": "ipython",
    "version": 3
   },
   "file_extension": ".py",
   "mimetype": "text/x-python",
   "name": "python",
   "nbconvert_exporter": "python",
   "pygments_lexer": "ipython3",
   "version": "3.7.6"
  }
 },
 "nbformat": 4,
 "nbformat_minor": 4
}
